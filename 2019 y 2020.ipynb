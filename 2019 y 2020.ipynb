{
 "cells": [
  {
   "cell_type": "code",
   "execution_count": 17,
   "metadata": {},
   "outputs": [
    {
     "name": "stdout",
     "output_type": "stream",
     "text": [
      "         BT_I   BT_V  EV_SS    LD_I  LD_V  SN_L1  SN_T0  SN_T1  SN_T2  SN_T3  \\\n",
      "0        0.00   0.00     18   88.75  4.97     27   21.9   21.8   22.0   21.8   \n",
      "1        0.00   0.00     22  143.75  4.97     27   21.9   21.9   22.0   21.8   \n",
      "2        0.00   0.00     22   56.25  4.97     27   21.9   21.9   22.1   21.8   \n",
      "3        0.00   0.00     23   56.25  4.98     30   21.9   22.1   22.1   21.9   \n",
      "4        0.00   0.00     20   55.00  4.98     30   21.9   22.1   22.1   21.9   \n",
      "5        0.00   0.00     22   55.00  4.98     26   22.0   22.1   22.0   21.9   \n",
      "6        0.00   0.00     22   53.75  4.98     26   22.0   22.1   22.0   21.9   \n",
      "7        0.00   0.00     25   67.50  4.98     26   21.9   21.9   22.0   21.9   \n",
      "8        0.00   0.00     22   52.50  4.98     26   21.9   21.9   21.9   21.9   \n",
      "9        0.00   0.00     23   57.50  4.98     26   21.9   21.8   21.9   21.8   \n",
      "10       0.00   0.00     23   63.75  4.98     26   21.8   21.8   21.9   21.8   \n",
      "11       0.00   0.00     23   53.75  4.98     26   21.7   21.7   21.8   21.8   \n",
      "12       0.00   0.00     23   55.00  4.98     26   21.6   21.6   21.7   21.7   \n",
      "13       0.00   0.00     23   55.00  4.98     26   21.5   21.5   21.6   21.6   \n",
      "14       0.00   0.00     23   57.50  4.97     26   21.4   21.4   21.6   21.6   \n",
      "15       0.00   0.00     23   52.50  4.98     26   21.3   21.3   21.5   21.5   \n",
      "16       0.00   0.00     23   52.50  4.98     26   21.2   21.2   21.4   21.4   \n",
      "17       0.00   0.00     23   60.00  4.98     26   21.1   21.1   21.3   21.4   \n",
      "18       0.00   0.00     23   53.75  4.98     26   21.1   21.1   21.2   21.3   \n",
      "19       0.00   0.00     23   52.50  4.98     26   21.1   21.1   21.2   21.3   \n",
      "20       0.00   0.00     23   60.00  4.98     26   21.0   21.0   21.2   21.2   \n",
      "21       0.00   0.00     23   62.50  4.97     26   20.9   21.0   21.1   21.2   \n",
      "22       0.00   0.00     23   60.00  4.98     27   20.9   20.9   21.1   21.2   \n",
      "23       0.00   0.00     23   53.75  4.97     27   20.9   20.9   21.1   21.1   \n",
      "24       0.00   0.00     23   53.75  4.98     27   20.8   20.9   21.0   21.1   \n",
      "25       0.00   0.00     23   55.00  4.97     27   20.8   20.9   20.9   21.1   \n",
      "26       0.00   0.00     23   56.25  4.98     27   20.8   20.8   20.9   21.0   \n",
      "27       0.00   0.00     23   53.75  4.98     27   20.8   20.8   20.9   21.0   \n",
      "28       0.00   0.00     23   56.25  4.98     27   20.7   20.8   20.9   20.9   \n",
      "29       0.00   0.00     23   56.25  4.98     27   20.7   20.8   20.8   20.9   \n",
      "...       ...    ...    ...     ...   ...    ...    ...    ...    ...    ...   \n",
      "22019   38.75  12.65     11   52.50  4.98    765   25.8    NaN   31.3   25.7   \n",
      "22020   40.00  12.65     11   57.50  4.97    765   24.2    NaN   31.2   23.8   \n",
      "22021   42.50  12.64     11   58.75  4.97    765   23.1    NaN   31.1   22.9   \n",
      "22022   45.00  12.64     11   66.25  4.97    765   23.6    NaN   31.0   24.1   \n",
      "22023   40.00  12.64     11   53.75  4.97    765   23.4    NaN   30.9   23.5   \n",
      "22024   45.00  12.64     11   60.00  4.97    765   23.8    NaN   30.9   24.2   \n",
      "22025   41.25  12.64     11   57.50  4.97    765   25.2    NaN   30.9   24.9   \n",
      "22026   43.75  12.64     11   70.00  4.97    765   25.8    NaN   30.8   25.2   \n",
      "22027   31.25  12.65     11   56.25  4.98    765   25.6    NaN   30.8   25.2   \n",
      "22028   22.50  12.66     11   58.75  4.98    765   25.5    NaN   30.7   25.1   \n",
      "22029   16.25  12.68     11   70.00  4.97    765   25.4    NaN   30.7   25.4   \n",
      "22030   15.00  12.76     11   53.75  4.98    765   25.4    NaN   30.6   24.8   \n",
      "22031   48.75  12.89     11   55.00  4.98    765   25.7    NaN   30.6   25.0   \n",
      "22032   86.25  13.12     11   61.25  4.98    765   26.4    NaN   30.6   25.4   \n",
      "22033  105.00  13.25     11   55.00  4.98    765   27.2    NaN   30.6   25.7   \n",
      "22034  142.50  13.33     11   55.00  4.98    765   28.0    NaN   30.6   26.3   \n",
      "22035  280.00  13.59     11   58.75  4.98    765   30.1    NaN   30.6   27.7   \n",
      "22036  238.75  13.59     11   60.00  4.98    765   31.9    NaN   30.6   28.2   \n",
      "22037  220.00  13.59     11   53.75  4.98    765   31.4    NaN   30.6   27.8   \n",
      "22038  223.75  13.71     11   60.00  4.98    765   30.8    NaN   30.6   27.9   \n",
      "22039  327.50  13.58     11   53.75  4.98    765   30.9    NaN   30.7   28.6   \n",
      "22040   40.00  13.50     11   57.50  4.98    765   31.6    NaN   30.8   29.2   \n",
      "22041  565.00  13.75     11   67.50  4.97    765   38.1    NaN   30.8   33.1   \n",
      "22042  588.75  13.62     11   56.25  4.97    765   37.4    NaN   30.9   33.2   \n",
      "22043   41.25  13.51     11   62.50  4.97    765   34.4    NaN   31.0   30.8   \n",
      "22044   31.25  13.47     11   56.25  4.97    765   33.4    NaN   31.1   30.3   \n",
      "22045   40.00  13.45     11   56.25  4.97    765   35.2    NaN   31.2   31.6   \n",
      "22046   38.75  13.66     11   56.25  4.98    765   38.4    NaN   31.2   34.1   \n",
      "22047   82.50  13.44     11   91.25  4.97    765   37.2    NaN   31.2   33.7   \n",
      "22048   41.25  13.40     11   58.75  4.97    765   33.3    NaN   31.3   32.8   \n",
      "\n",
      "       SN_T4  SN_T5  SN_T6  SN_T7  SN_T8  SN_T9   id                  time  \n",
      "0       28.3   25.2   21.1   21.9   21.5   20.5  999  2019-07-30T21:20:06Z  \n",
      "1       28.4   25.2   21.1   21.9   21.5   20.5  999  2019-07-30T21:22:34Z  \n",
      "2       25.1   23.6   21.0   22.1   21.6   20.4  999  2019-07-30T21:32:37Z  \n",
      "3       23.5   22.5   21.0   22.2   21.6   20.5  999  2019-07-30T21:42:40Z  \n",
      "4       23.2   22.3   21.1   22.2   21.6   20.6  999  2019-07-30T21:45:42Z  \n",
      "5       22.7   22.1   21.1   22.2   21.6   20.5  999  2019-07-30T21:55:45Z  \n",
      "6       22.6   22.0   21.1   22.2   21.6   20.5  999  2019-07-30T21:58:47Z  \n",
      "7       22.4   21.8   21.0   22.2   21.6   20.5  999  2019-07-30T22:08:50Z  \n",
      "8       22.3   21.8   20.9   22.2   21.6   20.5  999  2019-07-30T22:11:52Z  \n",
      "9       22.1   21.6   21.0   22.1   21.5   20.6  999  2019-07-30T22:21:55Z  \n",
      "10      22.1   21.6   21.0   22.1   21.5   20.6  999  2019-07-30T22:24:57Z  \n",
      "11      21.9   21.5   21.0   21.9   21.4   20.6  999  2019-07-30T22:35:00Z  \n",
      "12      21.8   21.4   21.0   21.9   21.4   20.6  999  2019-07-30T22:45:03Z  \n",
      "13      21.7   21.3   20.9   21.8   21.3   20.5  999  2019-07-30T22:55:07Z  \n",
      "14      21.6   21.2   20.8   21.7   21.2   20.4  999  2019-07-30T23:05:10Z  \n",
      "15      21.5   21.2   20.8   21.6   21.1   20.4  999  2019-07-30T23:15:13Z  \n",
      "16      21.4   21.1   20.7   21.5   21.1   20.3  999  2019-07-30T23:25:16Z  \n",
      "17      21.4   21.1   20.7   21.4   21.1   20.3  999  2019-07-30T23:35:20Z  \n",
      "18      21.3   21.0   20.6   21.4   21.0   20.3  999  2019-07-30T23:45:23Z  \n",
      "19      21.3   21.0   20.6   21.3   21.0   20.3  999  2019-07-30T23:48:25Z  \n",
      "20      21.2   20.9   20.6   21.3   20.9   20.2  999  2019-07-30T23:58:28Z  \n",
      "21      21.2   20.9   20.6   21.2   20.9   20.2  999  2019-07-31T00:08:32Z  \n",
      "22      21.1   20.9   20.5   21.2   20.9   20.2  999  2019-07-31T00:18:35Z  \n",
      "23      21.1   20.8   20.5   21.2   20.8   20.2  999  2019-07-31T00:28:39Z  \n",
      "24      21.1   20.8   20.4   21.1   20.8   20.2  999  2019-07-31T00:38:42Z  \n",
      "25      21.1   20.8   20.4   21.1   20.8   20.2  999  2019-07-31T00:48:46Z  \n",
      "26      21.0   20.8   20.4   21.1   20.8   20.2  999  2019-07-31T00:58:49Z  \n",
      "27      20.9   20.7   20.4   21.0   20.7   20.2  999  2019-07-31T01:08:53Z  \n",
      "28      20.9   20.6   20.4   21.0   20.6   20.2  999  2019-07-31T01:18:56Z  \n",
      "29      20.9   20.6   20.4   21.0   20.6   20.2  999  2019-07-31T01:28:59Z  \n",
      "...      ...    ...    ...    ...    ...    ...  ...                   ...  \n",
      "22019   25.7   25.7   31.2   25.7   26.1    NaN  999  2020-07-16T09:54:47Z  \n",
      "22020   24.5   24.6   31.0   24.1   24.2    NaN  999  2020-07-16T10:04:49Z  \n",
      "22021   23.0   22.8   30.9   22.8   23.8    NaN  999  2020-07-16T10:14:51Z  \n",
      "22022   23.8   23.6   30.9   23.8   24.9    NaN  999  2020-07-16T10:24:53Z  \n",
      "22023   23.6   23.5   30.9   23.5   24.3    NaN  999  2020-07-16T10:34:55Z  \n",
      "22024   24.0   23.5   30.8   24.1   24.9    NaN  999  2020-07-16T10:44:56Z  \n",
      "22025   24.8   24.1   30.8   25.4   25.4    NaN  999  2020-07-16T10:54:58Z  \n",
      "22026   25.2   24.5   30.7   25.8   25.4    NaN  999  2020-07-16T11:05:00Z  \n",
      "22027   25.3   25.5   30.6   25.7   25.3    NaN  999  2020-07-16T11:15:02Z  \n",
      "22028   25.4   25.4   30.6   25.5   25.2    NaN  999  2020-07-16T11:25:04Z  \n",
      "22029   25.4   25.3   30.6   25.5   24.9    NaN  999  2020-07-16T11:35:05Z  \n",
      "22030   25.1   24.6   30.6   25.4   24.6    NaN  999  2020-07-16T11:45:07Z  \n",
      "22031   25.4   24.9   30.5   25.7   24.9    NaN  999  2020-07-16T11:55:09Z  \n",
      "22032   26.4   25.2   30.4   26.6   25.6    NaN  999  2020-07-16T12:05:11Z  \n",
      "22033   27.1   25.6   30.4   27.6   25.9    NaN  999  2020-07-16T12:15:13Z  \n",
      "22034   28.1   26.2   30.3   28.4   26.6    NaN  999  2020-07-16T12:25:14Z  \n",
      "22035   29.6   27.3   30.4   30.0   27.9    NaN  999  2020-07-16T12:35:16Z  \n",
      "22036   31.1   27.6   30.4   31.6   28.8    NaN  999  2020-07-16T12:45:17Z  \n",
      "22037   30.4   27.2   30.5   31.4   28.1    NaN  999  2020-07-16T12:55:19Z  \n",
      "22038   29.8   27.4   30.5   29.8   27.9    NaN  999  2020-07-16T13:05:20Z  \n",
      "22039   30.1   28.6   30.6   29.6   28.6    NaN  999  2020-07-16T13:15:22Z  \n",
      "22040   30.9   29.2   30.6   30.1   29.4    NaN  999  2020-07-16T13:25:23Z  \n",
      "22041   37.8   32.1   30.8   36.8   34.6    NaN  999  2020-07-16T13:35:24Z  \n",
      "22042   36.6   32.3   31.0   35.1   33.3    NaN  999  2020-07-16T13:45:25Z  \n",
      "22043   33.6   30.0   31.2   32.4   30.2    NaN  999  2020-07-16T13:55:26Z  \n",
      "22044   32.8   30.6   31.2   31.7   30.4    NaN  999  2020-07-16T14:05:27Z  \n",
      "22045   34.4   32.1   31.4   32.9   31.7    NaN  999  2020-07-16T14:15:28Z  \n",
      "22046   37.2   33.5   31.6   36.1   34.4    NaN  999  2020-07-16T14:25:29Z  \n",
      "22047   36.7   33.3   31.8   34.6   34.2    NaN  999  2020-07-16T14:35:30Z  \n",
      "22048   35.9   32.4   31.9   32.5   31.8    NaN  999  2020-07-16T14:45:30Z  \n",
      "\n",
      "[22049 rows x 18 columns]\n"
     ]
    }
   ],
   "source": [
    "import pandas as pd\n",
    "import json\n",
    "import matplotlib.pyplot as plt\n",
    "import matplotlib.dates as mdates\n",
    "\n",
    "clean_data=[]\n",
    "\n",
    "with open('SensorRinconada1607200950.json', 'r') as f:\n",
    "    distros_dict = json.load(f)\n",
    "\n",
    "for message in distros_dict:\n",
    "    aux_dic={   'id':message['id'],\n",
    "                'time':message['DT']['$date'],\n",
    "                'BT_V':message['BT']['V'],\n",
    "                'BT_I':message['BT']['I'],\n",
    "                'LD_V':message['LD']['V'],\n",
    "                'LD_I':message['LD']['I'],\n",
    "                'SN_L1':message['SN']['L1'],\n",
    "                'EV_SS':message['EV']['SS']                        \n",
    "                }\n",
    "   \n",
    "    if 'T0' in message['SN']:\n",
    "        aux_dic['SN_T0']=message['SN']['T0']\n",
    "    if 'T1' in message['SN']:\n",
    "        aux_dic['SN_T1']=message['SN']['T1']\n",
    "    if 'T2' in message['SN']:\n",
    "        aux_dic['SN_T2']=message['SN']['T2']\n",
    "    if 'T3' in message['SN']:\n",
    "        aux_dic['SN_T3']=message['SN']['T3']\n",
    "    if 'T4' in message['SN']:\n",
    "        aux_dic['SN_T4']=message['SN']['T4']\n",
    "    if 'T5' in message['SN']:\n",
    "        aux_dic['SN_T5']=message['SN']['T5']\n",
    "    if 'T6' in message['SN']:\n",
    "        aux_dic['SN_T6']=message['SN']['T6']\n",
    "    if 'T7' in message['SN']:\n",
    "        aux_dic['SN_T7']=message['SN']['T7']\n",
    "    if 'T8' in message['SN']:\n",
    "        aux_dic['SN_T8']=message['SN']['T8']\n",
    "    if 'T9' in message['SN']:\n",
    "        aux_dic['SN_T9']=message['SN']['T9']\n",
    "                       \n",
    "    clean_data.append(aux_dic)\n",
    "    \n",
    "df = pd.DataFrame(clean_data)\n",
    "print (df)"
   ]
  },
  {
   "cell_type": "code",
   "execution_count": 18,
   "metadata": {},
   "outputs": [],
   "source": [
    "df[\"time\"]= df[\"time\"].str.replace(\"/\", \"-\", case = False)\n",
    "df[\"time\"]= df[\"time\"].str.replace(\"T\", \" \", case = False)\n",
    "df[\"time\"]= df[\"time\"].str.replace(\"Z\", \" \", case = False)\n",
    "df.time=pd.to_datetime(df.time)"
   ]
  },
  {
   "cell_type": "code",
   "execution_count": 19,
   "metadata": {},
   "outputs": [],
   "source": [
    "y = df[\"SN_T0\"]\n",
    "z = df[\"SN_T2\"]\n",
    "fecha=df[\"time\"]"
   ]
  },
  {
   "cell_type": "code",
   "execution_count": 20,
   "metadata": {},
   "outputs": [
    {
     "data": {
      "text/plain": [
       "pandas.core.series.Series"
      ]
     },
     "execution_count": 20,
     "metadata": {},
     "output_type": "execute_result"
    }
   ],
   "source": [
    "type(fecha)"
   ]
  },
  {
   "cell_type": "code",
   "execution_count": 65,
   "metadata": {},
   "outputs": [
    {
     "data": {
      "image/png": "[encoded data removed]",
      "text/plain": [
       "<Figure size 432x288 with 1 Axes>"
      ]
     },
     "metadata": {
      "needs_background": "light"
     },
     "output_type": "display_data"
    }
   ],
   "source": [
    "p=[\"h=1m\",\"h=2m\"]\n",
    "fig, ax = plt.subplots()\n",
    "ax.plot(fecha, y)\n",
    "ax.plot(fecha, z)\n",
    "leg=plt.legend(p)\n",
    "fig.autofmt_xdate()\n",
    "ax.fmt_xdata = mdates.DateFormatter('%Y%-m%-d')\n",
    "plt.show()"
   ]
  },
  {
   "cell_type": "code",
   "execution_count": null,
   "metadata": {},
   "outputs": [],
   "source": []
  }
 ],
 "metadata": {
  "kernelspec": {
   "display_name": "Python 3",
   "language": "python",
   "name": "python3"
  },
  "language_info": {
   "codemirror_mode": {
    "name": "ipython",
    "version": 3
   },
   "file_extension": ".py",
   "mimetype": "text/x-python",
   "name": "python",
   "nbconvert_exporter": "python",
   "pygments_lexer": "ipython3",
   "version": "3.7.3"
  }
 },
 "nbformat": 4,
 "nbformat_minor": 2
}
